{
 "cells": [
  {
   "cell_type": "code",
   "execution_count": 1,
   "id": "15671ffa",
   "metadata": {},
   "outputs": [],
   "source": [
    "import pandas as pd\n",
    "import numpy as np\n",
    "import matplotlib.pyplot as plt\n",
    "import seaborn as sns\n",
    "import collections\n",
    "\n",
    "from utils import *\n",
    "\n",
    "%matplotlib inline\n",
    "# !pip install matplotlib\n",
    "# !pip install pandas\n",
    "# !pip install seaborn"
   ]
  },
  {
   "cell_type": "markdown",
   "id": "44d935f3",
   "metadata": {},
   "source": [
    "### Descrição dos dados\n",
    "\n",
    "\n",
    "**num_boletim**: Número do Boletim de Ocorrência, exemplo: 206099 ou 2016-000009920-001\n",
    "\n",
    "**data_boletim**: Data do acidente registrada no Boletim de Ocorrência, exemplo: 24/4/1999\n",
    "\n",
    "**hora_boletim**: Hora do acidente registrada no Boletim de Ocorrência, exemplo: 18:10:00\n",
    "\n",
    "**N_envolvido**: Número do envolvido no acidente, exemplo: 1 - Paulo Sergio da Silva, 2 - Lorival Oliveira Franco.\n",
    "\n",
    "**condutor**: Indica se o envolvido no acidente é condutor ou não. Valores possiveis: 'S'- sim, 'N' - Nao e 0 - Não informado.\n",
    "\n",
    "**cod_severidade**: Codigo da severidade. Exemplo: 0 - não informado, 1 - não fatal, 2 - fatal, 3 - sem ferimentos.\n",
    "\n",
    "**desc_severidade**: Descrição da severidade.\n",
    "\n",
    "**sexo**: Sexo do envolvido. Valores possíveis: M-Masculino, F-Feminino e 0-Não informado.\n",
    "\n",
    "**cinto_seguranca**: Indica se o envolvido no acidente estava usando o cinto de segurança.\n",
    "\n",
    "**Embreagues**: Indica se o envolvido no acidente estava embriagado.\n",
    "\n",
    "**Idade**: Idade do envolvido. Exemplo: 26.\n",
    "\n",
    "**nascimento**: Data de nascimento do envolvido. Exemplo: 14/11/1974.\n",
    "\n",
    "**categoria_habilitacao**: Codigo da categoria de habilitacao. Exemplo: IN - Inabilitado, N - Nao informado, B - veiculos motor, com ate 8 passageiros, peso \n",
    "maximo 3500 kg, C - veic. motor p/ transp. de carga, c/ peso max. aut. 3500 kg.\n",
    "**descricao_habilitacao**: Calculado a partir do valor de \"categoria_habilitacao\".\n",
    "\n",
    "**declaracao_obito**: Número da declaração de óbito.\n",
    "\n",
    "**cod_severidade_antiga**: Código da severidade antiga. Exemplo: 0 - nao informado, 1 - nao fatal, 2 - fatal, 3 - sem ferimentos.\n",
    "\n",
    "**especie_veiculo**: Descrição do código da especie do veículo. Exemplos: 1 - bicicleta, 2 - ciclomotor, 3 - motoneta, 4 - motocicleta, 5 - triciclo, 6 - \n",
    "automóvel.\n",
    "**pedestre**:Indicativo de Pedestre (para os acidentes a partir de 2015). Exemplo: 0 - nao informado, S - Sim, N - Nao.\n",
    "\n",
    "**passageiro**: Indicativo de Passageiro. Exemplo: 0 - nao informado, S - Sim, N - Nao.\n"
   ]
  },
  {
   "cell_type": "code",
   "execution_count": 2,
   "id": "8cb1d082",
   "metadata": {},
   "outputs": [],
   "source": [
    "# new_file = open('new_detran2.csv', \"r+\")\n",
    "# with open('./teste.csv', encoding='utf-8') as file: \n",
    "#     for i in file:\n",
    "# #         print(i.replace(\",\", \";\"))\n",
    "#         new_file.write(i.replace(\";\", \",\"))\n",
    "    \n",
    "# new_file.close()\n",
    "\n",
    "df_2018 = pd.read_csv('new_detran_2018.csv')\n",
    "df_2021 = pd.read_csv('new_detran_2021.csv')\n",
    "\n",
    "mes_2018 = []\n",
    "mes_2021 = []\n",
    "\n",
    "for i in df_2018['data_boletim']:\n",
    "    a = i.split('/')\n",
    "    mes_2018.append(a[1])\n",
    "\n",
    "for i in df_2021['data_boletim']:\n",
    "    a = i.split('/')\n",
    "    mes_2021.append(a[1])\n",
    "\n",
    "mes_2018 = np.sort(mes_2018)\n",
    "mes_2021 = np.sort(mes_2021)\n",
    "\n",
    "acidentes_2018 = num_acidentes(mes_2018)\n",
    "# print(acidentes_2018)\n",
    "\n",
    "acidentes_2021 = num_acidentes(mes_2021)\n",
    "# print(acidentes_2021)\n",
    "\n"
   ]
  },
  {
   "cell_type": "markdown",
   "id": "7046cf39",
   "metadata": {},
   "source": [
    "## Histograma"
   ]
  },
  {
   "cell_type": "code",
   "execution_count": 3,
   "id": "d2186569",
   "metadata": {},
   "outputs": [
    {
     "data": {
      "image/png": "[encoded data removed]",
      "text/plain": [
       "<Figure size 1152x432 with 2 Axes>"
      ]
     },
     "metadata": {
      "needs_background": "light"
     },
     "output_type": "display_data"
    }
   ],
   "source": [
    "# plt.figure(figsize=(8,4))\n",
    "# sns.scatterplot(data=df_2018, x=lista, y='desc_severidade', hue='data_boletim')\n",
    "# plt.show()\n",
    "\n",
    "order = ['NAO FATAL', 'SEM FERIMENTOS', 'NAO INFORMADO', 'FATAL']\n",
    "\n",
    "fig, axes = plt.subplots(nrows=1, ncols=2, figsize=(16,6))\n",
    "a = sns.histplot(data=df_2018, bins=12, x=mes_2018, hue='desc_severidade', hue_order=order, multiple='dodge', shrink=0.8, ax=axes[0])\n",
    "b = sns.histplot(data=df_2021, bins=12, x=mes_2021, hue='desc_severidade', hue_order=order, multiple='dodge', shrink=0.8, ax=axes[1])\n",
    "sns.move_legend(a, 'lower center', bbox_to_anchor=(.5, 1), ncol=4, title=None, frameon=False)\n",
    "sns.move_legend(b, 'lower center', bbox_to_anchor=(.5, 1), ncol=4, title=None, frameon=False)\n",
    "\n",
    "plt.show()"
   ]
  },
  {
   "cell_type": "code",
   "execution_count": 12,
   "id": "ca45356d",
   "metadata": {},
   "outputs": [
    {
     "data": {
      "image/png": "[encoded data removed]",
      "text/plain": [
       "<Figure size 1008x576 with 1 Axes>"
      ]
     },
     "metadata": {
      "needs_background": "light"
     },
     "output_type": "display_data"
    }
   ],
   "source": [
    "x = np.array(['01', '02', '03', '04', '05', '06', '07', '08', '09', '10', '11', '12'])\n",
    "\n",
    "X_axis = np.arange(len(x))\n",
    "\n",
    "y_2018 = acidentes_2018\n",
    "y_2021 = acidentes_2021\n",
    "\n",
    "plt.figure(figsize=(14,8))\n",
    "\n",
    "plt.bar(X_axis - 0.2, y_2018, 0.4, label= 'Acidentes 2018', color=['lime'])\n",
    "plt.bar(X_axis + 0.2, y_2021, 0.4, label= 'Acidentes 2021', color=['deepskyblue'])\n",
    "\n",
    "plt.xticks(X_axis, x)\n",
    "plt.xlabel(\"Mês\")\n",
    "plt.ylabel(\"Número de acidentes\")\n",
    "plt.legend(loc='lower center', bbox_to_anchor=(0.5, 1), ncol=2)\n",
    "\n",
    "plt.show()"
   ]
  },
  {
   "cell_type": "code",
   "execution_count": 82,
   "id": "50db4588",
   "metadata": {},
   "outputs": [
    {
     "name": "stdout",
     "output_type": "stream",
     "text": [
      "01:{'01/01': 44, '02/01': 53, '03/01': 46, '04/01': 64, '05/01': 40, '06/01': 50, '07/01': 40, '08/01': 61, '09/01': 68, '10/01': 73, '11/01': 72, '12/01': 67, '13/01': 55, '14/01': 71, '15/01': 70, '16/01': 44, '17/01': 67, '18/01': 89, '19/01': 66, '20/01': 104, '21/01': 43, '22/01': 67, '23/01': 72, '24/01': 61, '25/01': 60, '26/01': 84, '27/01': 60, '28/01': 53, '29/01': 56, '30/01': 52, '31/01': 50}\n",
      "02:{'01/02': 66, '02/02': 66, '03/02': 54, '04/02': 51, '05/02': 78, '06/02': 67, '07/02': 43, '08/02': 76, '09/02': 88, '10/02': 45, '11/02': 51, '12/02': 52, '13/02': 45, '14/02': 45, '15/02': 61, '16/02': 53, '17/02': 45, '18/02': 44, '19/02': 46, '20/02': 59, '21/02': 49, '22/02': 91, '23/02': 66, '24/02': 82, '25/02': 41, '26/02': 94, '27/02': 67, '28/02': 59}\n",
      "03:{'01/03': 84, '02/03': 76, '03/03': 61, '04/03': 62, '05/03': 65, '06/03': 73, '07/03': 55, '08/03': 79, '09/03': 72, '10/03': 69, '11/03': 48, '12/03': 86, '13/03': 82, '14/03': 70, '15/03': 72, '16/03': 83, '17/03': 66, '18/03': 65, '19/03': 79, '20/03': 80, '21/03': 67, '22/03': 79, '23/03': 83, '24/03': 68, '25/03': 44, '26/03': 75, '27/03': 60, '28/03': 86, '29/03': 86, '30/03': 42, '31/03': 61}\n",
      "04:{'01/04': 33, '02/04': 67, '03/04': 68, '04/04': 80, '05/04': 95, '06/04': 75, '07/04': 83, '08/04': 62, '09/04': 100, '10/04': 53, '11/04': 71, '12/04': 80, '13/04': 92, '14/04': 63, '15/04': 48, '16/04': 89, '17/04': 76, '18/04': 54, '19/04': 68, '20/04': 101, '21/04': 50, '22/04': 62, '23/04': 65, '24/04': 113, '25/04': 68, '26/04': 82, '27/04': 74, '28/04': 59, '29/04': 44, '30/04': 56}\n",
      "05:{'01/05': 52, '02/05': 100, '03/05': 46, '04/05': 97, '05/05': 88, '06/05': 64, '07/05': 77, '08/05': 69, '09/05': 85, '10/05': 81, '11/05': 100, '12/05': 67, '13/05': 85, '14/05': 76, '15/05': 57, '16/05': 82, '17/05': 52, '18/05': 102, '19/05': 94, '20/05': 47, '21/05': 92, '22/05': 79, '23/05': 68, '24/05': 63, '25/05': 65, '26/05': 46, '27/05': 18, '28/05': 50, '29/05': 57, '30/05': 45, '31/05': 42}\n",
      "06:{'01/06': 36, '02/06': 51, '03/06': 58, '04/06': 59, '05/06': 85, '06/06': 63, '07/06': 76, '08/06': 99, '09/06': 64, '10/06': 59, '11/06': 82, '12/06': 82, '13/06': 75, '14/06': 99, '15/06': 101, '16/06': 77, '17/06': 58, '18/06': 70, '19/06': 60, '20/06': 91, '21/06': 66, '22/06': 77, '23/06': 70, '24/06': 37, '25/06': 92, '26/06': 70, '27/06': 94, '28/06': 62, '29/06': 68, '30/06': 40}\n",
      "07:{'01/07': 48, '02/07': 51, '03/07': 64, '04/07': 81, '05/07': 83, '06/07': 108, '07/07': 73, '08/07': 59, '09/07': 78, '10/07': 72, '11/07': 74, '12/07': 66, '13/07': 104, '14/07': 61, '15/07': 94, '16/07': 65, '17/07': 45, '18/07': 72, '19/07': 92, '20/07': 68, '21/07': 56, '22/07': 39, '23/07': 33, '24/07': 56, '25/07': 66, '26/07': 61, '27/07': 85, '28/07': 64, '29/07': 53, '30/07': 66, '31/07': 70}\n",
      "08:{'01/08': 81, '02/08': 108, '03/08': 67, '04/08': 72, '05/08': 70, '06/08': 99, '07/08': 57, '08/08': 79, '09/08': 50, '10/08': 115, '11/08': 75, '12/08': 65, '13/08': 68, '14/08': 74, '15/08': 52, '16/08': 70, '17/08': 84, '18/08': 46, '19/08': 48, '20/08': 72, '21/08': 58, '22/08': 64, '23/08': 73, '24/08': 101, '25/08': 50, '26/08': 47, '27/08': 69, '28/08': 94, '29/08': 72, '30/08': 78, '31/08': 84}\n",
      "09:{'01/09': 73, '02/09': 58, '03/09': 76, '04/09': 78, '05/09': 85, '06/09': 100, '07/09': 58, '08/09': 68, '09/09': 55, '10/09': 91, '11/09': 74, '12/09': 69, '13/09': 71, '14/09': 112, '15/09': 58, '16/09': 46, '17/09': 72, '18/09': 76, '19/09': 59, '20/09': 64, '21/09': 88, '22/09': 62, '23/09': 91, '24/09': 52, '25/09': 65, '26/09': 91, '27/09': 67, '28/09': 73, '29/09': 78, '30/09': 68}\n",
      "10:{'01/10': 77, '02/10': 82, '03/10': 97, '04/10': 74, '05/10': 80, '06/10': 101, '07/10': 53, '08/10': 62, '09/10': 74, '10/10': 93, '11/10': 94, '12/10': 40, '13/10': 37, '14/10': 46, '15/10': 101, '16/10': 56, '17/10': 69, '18/10': 81, '19/10': 67, '20/10': 80, '21/10': 67, '22/10': 95, '23/10': 65, '24/10': 94, '25/10': 83, '26/10': 85, '27/10': 67, '28/10': 72, '29/10': 67, '30/10': 59, '31/10': 95}\n",
      "11:{'01/11': 99, '02/11': 53, '03/11': 74, '04/11': 47, '05/11': 77, '06/11': 75, '07/11': 86, '08/11': 107, '09/11': 71, '10/11': 55, '11/11': 62, '12/11': 63, '13/11': 91, '14/11': 101, '15/11': 63, '16/11': 56, '17/11': 60, '18/11': 59, '19/11': 103, '20/11': 62, '21/11': 49, '22/11': 85, '23/11': 75, '24/11': 74, '25/11': 60, '26/11': 95, '27/11': 70, '28/11': 108, '29/11': 65, '30/11': 106}\n",
      "12:{'01/12': 73, '02/12': 49, '03/12': 65, '04/12': 97, '05/12': 73, '06/12': 50, '07/12': 89, '08/12': 80, '09/12': 66, '10/12': 100, '11/12': 83, '12/12': 83, '13/12': 101, '14/12': 95, '15/12': 94, '16/12': 65, '17/12': 87, '18/12': 63, '19/12': 108, '20/12': 78, '21/12': 109, '22/12': 132, '23/12': 62, '24/12': 74, '25/12': 60, '26/12': 62, '27/12': 57, '28/12': 47, '29/12': 55, '30/12': 22, '31/12': 40}\n"
     ]
    }
   ],
   "source": [
    "dia_mes_2018 = []\n",
    "\n",
    "for i in df_2018['data_boletim']:\n",
    "    a = i.split('/')\n",
    "    dia_mes_2018.append(a[0] + '/' + a[1])\n",
    "\n",
    "# dia_mes_2018 = np.array(dia_mes_2018)\n",
    "# dia_mes_2018 = np.sort(dia_mes_2018)\n",
    "\n",
    "\n",
    "acidentes2 = []\n",
    "  \n",
    "counter = collections.Counter(dia_mes_2018)\n",
    "c = collections.OrderedDict(sorted(counter.items()))\n",
    "for i in c.keys():\n",
    "    acidentes2.append(counter[f'{i}'])\n",
    "\n",
    "    \n",
    "meses = dict()\n",
    "for i in range(1,13):\n",
    "    a = str(i)\n",
    "    if len(a) == 1:\n",
    "        a = '0' + a\n",
    "    meses.update({f\"{a}\": dict()})\n",
    "# print(meses)\n",
    "    \n",
    "# print(c.keys())\n",
    "for i in c.keys():\n",
    "    dm = i.split('/')\n",
    "    meses[f\"{dm[1]}\"].update({f\"{i}\": c[i]})\n",
    "#     meses.update({f\"{dm[1]}\": })\n",
    "#     print(i + \":\" + str(c[i]))\n",
    "\n",
    "for i in meses.keys():\n",
    "    print(i + \":\" + str(meses[i]))\n",
    "\n",
    "\n",
    "# for i in range(1,13):\n",
    "#     a = str(i)\n",
    "#     if len(a) == 1:\n",
    "#         a = '0' + a\n",
    "    \n",
    "# print(acidentes2)\n",
    "# for j in c:\n",
    "#     print(j)\n",
    "\n",
    "# x = np.linspace(0, 10, 30)\n",
    "# y = np.sin(x)\n",
    "\n",
    "# plt.plot(x, y, '-ok')\n",
    "# plt.show()"
   ]
  },
  {
   "cell_type": "code",
   "execution_count": null,
   "id": "d0938ff3",
   "metadata": {},
   "outputs": [],
   "source": []
  }
 ],
 "metadata": {
  "kernelspec": {
   "display_name": "Python 3 (ipykernel)",
   "language": "python",
   "name": "python3"
  },
  "language_info": {
   "codemirror_mode": {
    "name": "ipython",
    "version": 3
   },
   "file_extension": ".py",
   "mimetype": "text/x-python",
   "name": "python",
   "nbconvert_exporter": "python",
   "pygments_lexer": "ipython3",
   "version": "3.10.6"
  }
 },
 "nbformat": 4,
 "nbformat_minor": 5
}
